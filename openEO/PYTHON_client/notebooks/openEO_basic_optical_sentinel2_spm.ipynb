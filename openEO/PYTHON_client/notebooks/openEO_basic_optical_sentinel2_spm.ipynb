{
 "cells": [
  {
   "cell_type": "markdown",
   "id": "c667f988",
   "metadata": {},
   "source": [
    "# openEO Platform - Sentinel-2 Suspended Particulate Matter Data Example\n",
    "#### Sentinel-2 Suspended Particulate Matter\n",
    "\n",
    "Currently, openEO Platform is only open for Early Adopters or within a free 30 day trial period.\n",
    "\n",
    "To express your interest in becoming an Early Adopter you need to follow 2 steps:\n",
    "\n",
    "1 - Connect an existing account to EGI check-in 2 - Apply to the openEO Platform virtual organization\n",
    "\n",
    "The 2 steps are described in detail here: https://docs.openeo.cloud/join/early_adopter.html#preamble-registration-and-login-authentication\n",
    "\n",
    "This notebook is based on the openEOPlatform github, sample-notebooks, here: https://github.com/openEOPlatform/sample-notebooks/blob/main/openEO%20Platform%20-%20Optical%20ARD.ipynb"
   ]
  },
  {
   "cell_type": "code",
   "execution_count": null,
   "id": "946d828d",
   "metadata": {},
   "outputs": [],
   "source": []
  },
  {
   "cell_type": "markdown",
   "id": "dfb66fd4",
   "metadata": {},
   "source": [
    "### Import Libraries\n",
    "\n",
    "Note: eo_utils.py must be in the same folder as the notebook. It can be retreived from the openEO github, here:\n",
    "https://github.com/openEOPlatform/sample-notebooks"
   ]
  },
  {
   "cell_type": "code",
   "execution_count": 37,
   "id": "ef868884",
   "metadata": {},
   "outputs": [],
   "source": [
    "import openeo\n",
    "import time\n",
    "from datetime import datetime\n",
    "import csv\n",
    "from csv import writer\n",
    "from eo_utils import *\n",
    "from netCDF4 import Dataset\n",
    "import numpy as np"
   ]
  },
  {
   "cell_type": "code",
   "execution_count": 38,
   "id": "a0595e3c",
   "metadata": {},
   "outputs": [
    {
     "data": {
      "text/plain": [
       "'0.10.1a1'"
      ]
     },
     "execution_count": 38,
     "metadata": {},
     "output_type": "execute_result"
    }
   ],
   "source": [
    "openeo.__version__"
   ]
  },
  {
   "cell_type": "markdown",
   "id": "1ea6b862",
   "metadata": {},
   "source": [
    "### 1. Open the connection with openEO Platform. You can autenticate using EGI.\n",
    "\n",
    "Please refer to the openEO Platform official documentation for details about the installation and authentication: https://docs.openeo.cloud/getting-started/python/"
   ]
  },
  {
   "cell_type": "code",
   "execution_count": 39,
   "id": "6f8f95d2",
   "metadata": {},
   "outputs": [
    {
     "name": "stdout",
     "output_type": "stream",
     "text": [
      "Authenticated using refresh token.\n"
     ]
    }
   ],
   "source": [
    "backend = \"https://openeo.vito.be\"\n",
    "conn = openeo.connect(backend)\n",
    "conn.list_collections()\n",
    "conn = openeo.connect(backend).authenticate_oidc(provider_id='egi')"
   ]
  },
  {
   "cell_type": "code",
   "execution_count": 40,
   "id": "6504986a",
   "metadata": {},
   "outputs": [
    {
     "name": "stdout",
     "output_type": "stream",
     "text": [
      "Authenticated using refresh token.\n"
     ]
    }
   ],
   "source": [
    "backend = \"https://openeo.vito.be\"\n",
    "conn = openeo.connect(backend).authenticate_oidc(provider_id=\"egi\")"
   ]
  },
  {
   "cell_type": "markdown",
   "id": "9f9bea0b",
   "metadata": {},
   "source": [
    "### 2. Area of Interest selection\n",
    "\n",
    "Defining Area of Interest (AOI) per centre coordinates and zoom level.\n",
    "If necessary, draw and adjust the bounding box (bbox) over the map and get its coordinates with the getBbox command."
   ]
  },
  {
   "cell_type": "code",
   "execution_count": 41,
   "id": "2913fdab",
   "metadata": {},
   "outputs": [
    {
     "data": {
      "application/vnd.jupyter.widget-view+json": {
       "model_id": "691bd6cebfa847508397ea7d81c07ab6",
       "version_major": 2,
       "version_minor": 0
      },
      "text/plain": [
       "Map(center=[32.72, -17.19], controls=(ZoomControl(options=['position', 'zoom_in_text', 'zoom_in_title', 'zoom_…"
      ]
     },
     "metadata": {},
     "output_type": "display_data"
    }
   ],
   "source": [
    "center = [32.72, -17.19]\n",
    "zoom = 12\n",
    "\n",
    "eoMap = openeoMap(center,zoom)\n",
    "eoMap.map"
   ]
  },
  {
   "cell_type": "code",
   "execution_count": 42,
   "id": "8da212a2",
   "metadata": {},
   "outputs": [
    {
     "name": "stdout",
     "output_type": "stream",
     "text": [
      "west -17.327156066894535 \n",
      "east -17.05284118652344 \n",
      "south 32.66221132308069 \n",
      "north 32.77774932798732\n"
     ]
    }
   ],
   "source": [
    "bbox = eoMap.getBbox()\n",
    "print('west',bbox[0],'\\neast',bbox[2],'\\nsouth',bbox[1],'\\nnorth',bbox[3])"
   ]
  },
  {
   "cell_type": "markdown",
   "id": "a91f4c13",
   "metadata": {},
   "source": [
    "### 3. Define range of interest in time and requested bands from AGERA5"
   ]
  },
  {
   "cell_type": "code",
   "execution_count": 43,
   "id": "e981256e",
   "metadata": {},
   "outputs": [
    {
     "data": {
      "text/html": [
       "\n",
       "    <script>\n",
       "    if (!window.customElements || !window.customElements.get('openeo-collection')) {\n",
       "        var el = document.createElement('script');\n",
       "        el.src = \"https://cdn.jsdelivr.net/npm/@openeo/vue-components@2/assets/openeo.min.js\";\n",
       "        document.head.appendChild(el);\n",
       "\n",
       "        var font = document.createElement('font');\n",
       "        font.as = \"font\";\n",
       "        font.type = \"font/woff2\";\n",
       "        font.crossOrigin = true;\n",
       "        font.href = \"https://use.fontawesome.com/releases/v5.13.0/webfonts/fa-solid-900.woff2\"\n",
       "        document.head.appendChild(font);\n",
       "    }\n",
       "    </script>\n",
       "    <openeo-collection>\n",
       "        <script type=\"application/json\">{\"mapOptions\": {}, \"data\": {\"assets\": {\"metadata_iso_19139\": {\"href\": \"https://services.terrascope.be/collectioncatalogue/srv/api/records/urn:eop:VITO:TERRASCOPE_S2_SPM_V1/formatters/xml?approved=true\", \"roles\": [\"metadata\", \"iso-19139\"], \"title\": \"ISO 19139 metadata\", \"type\": \"application/vnd.iso.19139+xml\"}, \"thumbnail\": {\"href\": \"https://services.terrascope.be/collectioncatalogue/images/quicklooks/TERRASCOPE_S2_SPM_V1\", \"roles\": [\"thumbnail\"], \"title\": \"Thumbnail\", \"type\": \"image/jpeg\"}}, \"cube:dimensions\": {\"bands\": {\"type\": \"bands\", \"values\": [\"SPM\", \"PIXELCLASSIFICATION_10M\"]}, \"t\": {\"extent\": [\"2015-07-06T00:00:00Z\", null], \"type\": \"temporal\"}, \"x\": {\"axis\": \"x\", \"extent\": [-180, 180], \"reference_system\": {\"$schema\": \"https://proj.org/schemas/v0.2/projjson.schema.json\", \"area\": \"World\", \"bbox\": {\"east_longitude\": 180, \"north_latitude\": 90, \"south_latitude\": -90, \"west_longitude\": -180}, \"coordinate_system\": {\"axis\": [{\"abbreviation\": \"Lat\", \"direction\": \"north\", \"name\": \"Geodetic latitude\", \"unit\": \"degree\"}, {\"abbreviation\": \"Lon\", \"direction\": \"east\", \"name\": \"Geodetic longitude\", \"unit\": \"degree\"}], \"subtype\": \"ellipsoidal\"}, \"datum\": {\"ellipsoid\": {\"inverse_flattening\": 298.257223563, \"name\": \"WGS 84\", \"semi_major_axis\": 6378137}, \"name\": \"World Geodetic System 1984\", \"type\": \"GeodeticReferenceFrame\"}, \"id\": {\"authority\": \"OGC\", \"code\": \"Auto42001\", \"version\": \"1.3\"}, \"name\": \"AUTO 42001 (Universal Transverse Mercator)\", \"type\": \"GeodeticCRS\"}, \"step\": 10, \"type\": \"spatial\"}, \"y\": {\"axis\": \"y\", \"extent\": [-56, 83], \"reference_system\": {\"$schema\": \"https://proj.org/schemas/v0.2/projjson.schema.json\", \"area\": \"World\", \"bbox\": {\"east_longitude\": 180, \"north_latitude\": 90, \"south_latitude\": -90, \"west_longitude\": -180}, \"coordinate_system\": {\"axis\": [{\"abbreviation\": \"Lat\", \"direction\": \"north\", \"name\": \"Geodetic latitude\", \"unit\": \"degree\"}, {\"abbreviation\": \"Lon\", \"direction\": \"east\", \"name\": \"Geodetic longitude\", \"unit\": \"degree\"}], \"subtype\": \"ellipsoidal\"}, \"datum\": {\"ellipsoid\": {\"inverse_flattening\": 298.257223563, \"name\": \"WGS 84\", \"semi_major_axis\": 6378137}, \"name\": \"World Geodetic System 1984\", \"type\": \"GeodeticReferenceFrame\"}, \"id\": {\"authority\": \"OGC\", \"code\": \"Auto42001\", \"version\": \"1.3\"}, \"name\": \"AUTO 42001 (Universal Transverse Mercator)\", \"type\": \"GeodeticCRS\"}, \"step\": 10, \"type\": \"spatial\"}}, \"description\": \"The SENTINEL-2 SPM corresponds to the Suspended Particulate Matter water quality products, units are expressed in (mg L-1).\", \"extent\": {\"spatial\": {\"bbox\": [[-180, -56, 180, 83]]}, \"temporal\": {\"interval\": [[\"2015-07-06T00:00:00Z\", null]]}}, \"id\": \"TERRASCOPE_S2_SPM_V1\", \"keywords\": [\"VITO\", \"TERRASCOPE\", \"COPERNICUS\", \"ESA\", \"Orthoimagery\", \"SENTINEL-2\", \"MSI\", \"Level-3\", \"Radiometry\", \"Water Quality\", \"Total Suspended Matter\", \"Suspended Particulate Matter\"], \"license\": \"proprietary\", \"links\": [{\"href\": \"https://sentinel.esa.int/documents/247904/690755/Sentinel_Data_Legal_Notice\", \"rel\": \"license\"}, {\"href\": \"https://services.terrascope.be/catalogue/collections?uid=urn:eop:VITO:TERRASCOPE_S2_SPM_V1\", \"rel\": \"alternate\"}, {\"href\": \"https://viewer.terrascope.be/?language=nl&bbox=0.9339867511378304,50.14520994379217,6.207424251137831,51.77292299745045&overlay=false&bgLayer=MapBox&date=2019-02-25T03:17:15.000Z&layer=TERRASCOPE_S2_SPM_V1\", \"rel\": \"alternate\"}, {\"href\": \"https://services.terrascope.be/wmts/v2\", \"rel\": \"wmts\", \"wmts:layer\": \"TERRASCOPE_S2_SPM_V1\"}], \"providers\": [{\"name\": \"VITO, on behalf of the Belgian Science Policy Office (BELSPO).\", \"roles\": [\"producer\", \"licensor\"], \"url\": \"https://terrascope.be\"}], \"stac_extensions\": [\"datacube\"], \"stac_version\": \"0.9.0\", \"summaries\": {\"eo:bands\": [{\"gsd\": 10, \"name\": \"SPM\", \"offset\": 0, \"scale\": 0.1, \"type\": \"uint16\", \"unit\": \"mg L-1\"}, {\"name\": \"PIXELCLASSIFICATION_10M\"}], \"instruments\": [\"MSI\"], \"platform\": [\"SENTINEL-2\"]}, \"title\": \"SENTINEL-2 Suspended Particulate Matter (SPM) (tiles) - V1\"}}</script>\n",
       "    </openeo-collection>\n",
       "    "
      ],
      "text/plain": [
       "{'assets': {'metadata_iso_19139': {'href': 'https://services.terrascope.be/collectioncatalogue/srv/api/records/urn:eop:VITO:TERRASCOPE_S2_SPM_V1/formatters/xml?approved=true',\n",
       "   'roles': ['metadata', 'iso-19139'],\n",
       "   'title': 'ISO 19139 metadata',\n",
       "   'type': 'application/vnd.iso.19139+xml'},\n",
       "  'thumbnail': {'href': 'https://services.terrascope.be/collectioncatalogue/images/quicklooks/TERRASCOPE_S2_SPM_V1',\n",
       "   'roles': ['thumbnail'],\n",
       "   'title': 'Thumbnail',\n",
       "   'type': 'image/jpeg'}},\n",
       " 'cube:dimensions': {'bands': {'type': 'bands',\n",
       "   'values': ['SPM', 'PIXELCLASSIFICATION_10M']},\n",
       "  't': {'extent': ['2015-07-06T00:00:00Z', None], 'type': 'temporal'},\n",
       "  'x': {'axis': 'x',\n",
       "   'extent': [-180, 180],\n",
       "   'reference_system': {'$schema': 'https://proj.org/schemas/v0.2/projjson.schema.json',\n",
       "    'area': 'World',\n",
       "    'bbox': {'east_longitude': 180,\n",
       "     'north_latitude': 90,\n",
       "     'south_latitude': -90,\n",
       "     'west_longitude': -180},\n",
       "    'coordinate_system': {'axis': [{'abbreviation': 'Lat',\n",
       "       'direction': 'north',\n",
       "       'name': 'Geodetic latitude',\n",
       "       'unit': 'degree'},\n",
       "      {'abbreviation': 'Lon',\n",
       "       'direction': 'east',\n",
       "       'name': 'Geodetic longitude',\n",
       "       'unit': 'degree'}],\n",
       "     'subtype': 'ellipsoidal'},\n",
       "    'datum': {'ellipsoid': {'inverse_flattening': 298.257223563,\n",
       "      'name': 'WGS 84',\n",
       "      'semi_major_axis': 6378137},\n",
       "     'name': 'World Geodetic System 1984',\n",
       "     'type': 'GeodeticReferenceFrame'},\n",
       "    'id': {'authority': 'OGC', 'code': 'Auto42001', 'version': '1.3'},\n",
       "    'name': 'AUTO 42001 (Universal Transverse Mercator)',\n",
       "    'type': 'GeodeticCRS'},\n",
       "   'step': 10,\n",
       "   'type': 'spatial'},\n",
       "  'y': {'axis': 'y',\n",
       "   'extent': [-56, 83],\n",
       "   'reference_system': {'$schema': 'https://proj.org/schemas/v0.2/projjson.schema.json',\n",
       "    'area': 'World',\n",
       "    'bbox': {'east_longitude': 180,\n",
       "     'north_latitude': 90,\n",
       "     'south_latitude': -90,\n",
       "     'west_longitude': -180},\n",
       "    'coordinate_system': {'axis': [{'abbreviation': 'Lat',\n",
       "       'direction': 'north',\n",
       "       'name': 'Geodetic latitude',\n",
       "       'unit': 'degree'},\n",
       "      {'abbreviation': 'Lon',\n",
       "       'direction': 'east',\n",
       "       'name': 'Geodetic longitude',\n",
       "       'unit': 'degree'}],\n",
       "     'subtype': 'ellipsoidal'},\n",
       "    'datum': {'ellipsoid': {'inverse_flattening': 298.257223563,\n",
       "      'name': 'WGS 84',\n",
       "      'semi_major_axis': 6378137},\n",
       "     'name': 'World Geodetic System 1984',\n",
       "     'type': 'GeodeticReferenceFrame'},\n",
       "    'id': {'authority': 'OGC', 'code': 'Auto42001', 'version': '1.3'},\n",
       "    'name': 'AUTO 42001 (Universal Transverse Mercator)',\n",
       "    'type': 'GeodeticCRS'},\n",
       "   'step': 10,\n",
       "   'type': 'spatial'}},\n",
       " 'description': 'The SENTINEL-2 SPM corresponds to the Suspended Particulate Matter water quality products, units are expressed in (mg L-1).',\n",
       " 'extent': {'spatial': {'bbox': [[-180, -56, 180, 83]]},\n",
       "  'temporal': {'interval': [['2015-07-06T00:00:00Z', None]]}},\n",
       " 'id': 'TERRASCOPE_S2_SPM_V1',\n",
       " 'keywords': ['VITO',\n",
       "  'TERRASCOPE',\n",
       "  'COPERNICUS',\n",
       "  'ESA',\n",
       "  'Orthoimagery',\n",
       "  'SENTINEL-2',\n",
       "  'MSI',\n",
       "  'Level-3',\n",
       "  'Radiometry',\n",
       "  'Water Quality',\n",
       "  'Total Suspended Matter',\n",
       "  'Suspended Particulate Matter'],\n",
       " 'license': 'proprietary',\n",
       " 'links': [{'href': 'https://sentinel.esa.int/documents/247904/690755/Sentinel_Data_Legal_Notice',\n",
       "   'rel': 'license'},\n",
       "  {'href': 'https://services.terrascope.be/catalogue/collections?uid=urn:eop:VITO:TERRASCOPE_S2_SPM_V1',\n",
       "   'rel': 'alternate'},\n",
       "  {'href': 'https://viewer.terrascope.be/?language=nl&bbox=0.9339867511378304,50.14520994379217,6.207424251137831,51.77292299745045&overlay=false&bgLayer=MapBox&date=2019-02-25T03:17:15.000Z&layer=TERRASCOPE_S2_SPM_V1',\n",
       "   'rel': 'alternate'},\n",
       "  {'href': 'https://services.terrascope.be/wmts/v2',\n",
       "   'rel': 'wmts',\n",
       "   'wmts:layer': 'TERRASCOPE_S2_SPM_V1'}],\n",
       " 'providers': [{'name': 'VITO, on behalf of the Belgian Science Policy Office (BELSPO).',\n",
       "   'roles': ['producer', 'licensor'],\n",
       "   'url': 'https://terrascope.be'}],\n",
       " 'stac_extensions': ['datacube'],\n",
       " 'stac_version': '0.9.0',\n",
       " 'summaries': {'eo:bands': [{'gsd': 10,\n",
       "    'name': 'SPM',\n",
       "    'offset': 0,\n",
       "    'scale': 0.1,\n",
       "    'type': 'uint16',\n",
       "    'unit': 'mg L-1'},\n",
       "   {'name': 'PIXELCLASSIFICATION_10M'}],\n",
       "  'instruments': ['MSI'],\n",
       "  'platform': ['SENTINEL-2']},\n",
       " 'title': 'SENTINEL-2 Suspended Particulate Matter (SPM) (tiles) - V1'}"
      ]
     },
     "execution_count": 43,
     "metadata": {},
     "output_type": "execute_result"
    }
   ],
   "source": [
    "conn.describe_collection('TERRASCOPE_S2_SPM_V1')"
   ]
  },
  {
   "cell_type": "code",
   "execution_count": 44,
   "id": "61d1c6f0",
   "metadata": {},
   "outputs": [],
   "source": [
    "collection      = 'TERRASCOPE_S2_SPM_V1'\n",
    "spatial_extent  = {'west':bbox[0],'east':bbox[2],'south':bbox[1],'north':bbox[3],'crs':'EPSG:4326'}\n",
    "temporal_extent = [\"2017-09-01\", \"2022-03-01\"]\n",
    "bands           = ['SPM','PIXELCLASSIFICATION_10M']\n"
   ]
  },
  {
   "cell_type": "markdown",
   "id": "24406911",
   "metadata": {},
   "source": [
    "### 4. Save process as final step, we use NetCDF as output format"
   ]
  },
  {
   "cell_type": "code",
   "execution_count": 45,
   "id": "2b24f2f5",
   "metadata": {},
   "outputs": [
    {
     "name": "stdout",
     "output_type": "stream",
     "text": [
      "DataCube(<PGNode 'save_result' at 0x7f9b0024cc50>)\n"
     ]
    }
   ],
   "source": [
    "spm = conn.load_collection(collection,spatial_extent=spatial_extent,bands=bands,temporal_extent=temporal_extent)\n",
    "\n",
    "spm_nc = spm.save_result(format=\"NETCDF\")\n",
    "print(spm_nc)"
   ]
  },
  {
   "cell_type": "markdown",
   "id": "e1906ef8",
   "metadata": {},
   "source": [
    " ### 5. Create a batch job and start it. More info about batch jobs can be found here:\n",
    "\n",
    "https://docs.openeo.cloud/getting-started/python/#batch-job-execution\n",
    "\n",
    "https://open-eo.github.io/openeo-python-client/batch_jobs.html"
   ]
  },
  {
   "cell_type": "code",
   "execution_count": 46,
   "id": "99fdce79",
   "metadata": {},
   "outputs": [
    {
     "name": "stdout",
     "output_type": "stream",
     "text": [
      "Batch job created with id:  0f0075a2-ea3a-468c-a567-f7d819e19e6f\n"
     ]
    }
   ],
   "source": [
    "job = conn.create_job(spm_nc)\n",
    "job_id = job.job_id\n",
    "if job_id:\n",
    "    print(\"Batch job created with id: \",job_id)\n",
    "    job.start_job()\n",
    "else:\n",
    "    print(\"Error! Job ID is None\")"
   ]
  },
  {
   "cell_type": "markdown",
   "id": "ec66c742",
   "metadata": {},
   "source": [
    "### 8. Get a description of the job and check its status."
   ]
  },
  {
   "cell_type": "code",
   "execution_count": 47,
   "id": "7953ead9",
   "metadata": {},
   "outputs": [
    {
     "name": "stdout",
     "output_type": "stream",
     "text": [
      "Batch job with id:  0f0075a2-ea3a-468c-a567-f7d819e19e6f  is  queued\n"
     ]
    }
   ],
   "source": [
    "dateTimeObj = datetime.now()\n",
    "timestampStr = dateTimeObj.strftime(\"%d-%b-%Y (%H:%M:%S.%f)\")\n",
    "\n",
    "my_job = conn.job(job_id)\n",
    "job_description = my_job.describe_job()\n",
    "\n",
    "header = ['job_description', 'job_timestamp', 'job_id','job_status']\n",
    "data = ['marismar_s2l3_spm_2017_2022_timeseries',timestampStr, job_id,job_description['status']]\n",
    "\n",
    "with open('job_id.csv', 'w', encoding='UTF8') as f:\n",
    "    writer = csv.writer(f)\n",
    "\n",
    "    # write the header\n",
    "    writer.writerow(header)\n",
    "\n",
    "    # write the data\n",
    "    writer.writerow(data)\n",
    "    \n",
    "\n",
    "    \n",
    "print(\"Batch job with id: \",job_id, ' is ',job_description['status'])"
   ]
  },
  {
   "cell_type": "code",
   "execution_count": 51,
   "id": "ec81d66e",
   "metadata": {},
   "outputs": [
    {
     "name": "stdout",
     "output_type": "stream",
     "text": [
      "Batch job with id:  0f0075a2-ea3a-468c-a567-f7d819e19e6f  is  error\n"
     ]
    }
   ],
   "source": [
    "dateTimeObj = datetime.now()\n",
    "timestampStr = dateTimeObj.strftime(\"%d-%b-%Y (%H:%M:%S.%f)\")\n",
    "\n",
    "my_job = conn.job(job_id)\n",
    "job_description = my_job.describe_job()\n",
    "\n",
    "header = ['job_description', 'job_timestamp', 'job_id','job_status']\n",
    "data = ['marismar_s2l3_spm_2017_2022_timeseries',timestampStr, job_id,job_description['status']]\n",
    "\n",
    "with open('job_id.csv', 'a') as f_object:\n",
    "\n",
    "    writer_object = csv.writer(f_object)\n",
    "  \n",
    "    writer_object.writerow(data)\n",
    "  \n",
    "    #Close the file object\n",
    "    f_object.close()\n",
    "    \n",
    "print(\"Batch job with id: \",job_id, ' is ',job_description['status'])"
   ]
  },
  {
   "cell_type": "markdown",
   "id": "db1b1472",
   "metadata": {},
   "source": [
    "### 9. Download and visualize the results"
   ]
  },
  {
   "cell_type": "code",
   "execution_count": null,
   "id": "f100dfc5",
   "metadata": {},
   "outputs": [],
   "source": [
    "%%time\n",
    "\n",
    "results = my_job.get_results()\n",
    "metadata = results.get_metadata()\n",
    "results.download_file(\"./marismar_s2l3_spm_2017_2021_timeseries.nc\")"
   ]
  },
  {
   "cell_type": "code",
   "execution_count": 40,
   "id": "6d235c1b",
   "metadata": {},
   "outputs": [],
   "source": [
    "#download started at 20220523 13:39"
   ]
  }
 ],
 "metadata": {
  "kernelspec": {
   "display_name": "Python 3 (ipykernel)",
   "language": "python",
   "name": "python3"
  },
  "language_info": {
   "codemirror_mode": {
    "name": "ipython",
    "version": 3
   },
   "file_extension": ".py",
   "mimetype": "text/x-python",
   "name": "python",
   "nbconvert_exporter": "python",
   "pygments_lexer": "ipython3",
   "version": "3.7.12"
  }
 },
 "nbformat": 4,
 "nbformat_minor": 5
}
